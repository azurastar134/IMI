{
 "cells": [
  {
   "cell_type": "markdown",
   "id": "c5fb0b1b",
   "metadata": {},
   "source": [
    "### Exercise 1"
   ]
  },
  {
   "cell_type": "code",
   "execution_count": 1,
   "id": "bb843b09",
   "metadata": {},
   "outputs": [],
   "source": [
    "# import packages important for the execution of this assignment\n",
    "import matplotlib.pyplot as plt\n",
    "plt.style.use('seaborn')\n",
    "import matplotlib as mpl\n",
    "mpl.rcParams['font.family'] = 'serif'\n",
    "import pandas as pd\n",
    "\n",
    "import numpy as np\n",
    "import numpy.random as npr\n",
    "import scipy.stats as scs\n",
    "np.random.seed(500)"
   ]
  },
  {
   "cell_type": "markdown",
   "id": "6d7dd630",
   "metadata": {},
   "source": [
    "Exercise 1.\n",
    "Evaluate the option price under Heston model for the following parameters, using a crude Monte-Carlo simulation approach. \"Crude\" means you don't use any variance reduction technique.\n",
    "\n",
    "v0 (initial variance) = 0.04;\n",
    "kappa (mean-reversion rate) = 1.5\n",
    "theta (long-run average) = 0.02\n",
    "sigma ( vol-vol for variance process) = 0.15\n",
    "rho (correlation coeff) = -0.5\n",
    "r (risk-free rate) =0.05\n",
    "S0=100.0 \n",
    "for a strike price  K=90,100,120  (please choose one of the three)\n",
    "Maturity  T=1.0/12  (i.e. one month)"
   ]
  },
  {
   "cell_type": "code",
   "execution_count": 2,
   "id": "a3b6cab1",
   "metadata": {},
   "outputs": [],
   "source": [
    "# set the variables\n",
    "v0 = 0.04; kappa = 1.5; theta = 0.02; sigma = 0.15; rho = -0.5; r = 0.05; S0 = 100.0;T = 1/12; M = 50; I = 500000"
   ]
  },
  {
   "cell_type": "code",
   "execution_count": 3,
   "id": "bb83d352",
   "metadata": {},
   "outputs": [],
   "source": [
    "def MCHeston(S0, r, T, sigma, kappa, theta, rho, I, M, BIAS = False):\n",
    "    corr_mat = np.zeros((2, 2))\n",
    "    corr_mat[0, :] = [1.0, rho] #make the correlation matrix\n",
    "    corr_mat[1, :] = [rho, 1.0]\n",
    "    cho_mat = np.linalg.cholesky(corr_mat) #get the cholesky matrix\n",
    "    dt = T / M\n",
    "    t = 1\n",
    "    ran_num = npr.standard_normal((2, M + 1, I)) \n",
    "    v = np.zeros_like(ran_num[0])\n",
    "    vh = np.zeros_like(v)\n",
    "    v[0] = v0\n",
    "    vh[0] = v0\n",
    "    S = np.zeros_like(ran_num[0])\n",
    "    S[0] = S0\n",
    "    for t in range(1, M + 1):\n",
    "        ran = np.dot(cho_mat, ran_num[:, t, :])\n",
    "        #this scheme is called full-truncation\n",
    "        vh[t] = (vh[t - 1] + kappa * (theta - np.maximum(vh[t - 1], 0)) * dt\n",
    "          + sigma * np.sqrt(np.maximum(vh[t - 1], 0)) * np.sqrt(dt)  \n",
    "          * ran[1])\n",
    "        v[t] = np.maximum(0, vh[t])\n",
    "        \n",
    "        # make the bias if statement here and calculate the coresponding S if the parameter in the function is True\n",
    "        if BIAS == True:\n",
    "            bias = np.mean(np.sqrt(v[t])*ran[0]*np.sqrt(dt))\n",
    "            S[t] = S[t - 1] * np.exp((r - 0.5 * v[t]) * dt + np.sqrt(v[t]) * ran[0] * np.sqrt(dt) - bias)\n",
    "        else:\n",
    "            S[t] = S[t - 1] * np.exp((r - 0.5 * v[t]) * dt + np.sqrt(v[t]) * ran[0] * np.sqrt(dt))\n",
    "    # here this is for priting purposes\n",
    "    call = np.zeros(3) #make an array of index 3 filled with zeros in order to fill it in with our values\n",
    "    put = np.zeros(3)\n",
    "    K = [80.0,100.0,120.0]\n",
    "    for i in range(3):\n",
    "        call[i] = np.exp(-r*T)*np.mean(np.maximum(S[-1] - K[i],0))\n",
    "        put[i] = np.exp(-r*T)*np.mean(np.maximum(K[i] - S[-1],0))\n",
    "\n",
    "        print('Call equals: ', call[i], ' Put equals: ',  put[i], ' with strike ', K[i]) #print the call and put with the corresponding strike"
   ]
  },
  {
   "cell_type": "code",
   "execution_count": 7,
   "id": "a7ee75a1",
   "metadata": {},
   "outputs": [
    {
     "name": "stdout",
     "output_type": "stream",
     "text": [
      "Call equals:  20.33286542169472  Put equals:  0.00021447131385741343  with strike  80.0\n",
      "Call equals:  2.4740414319462745  Put equals:  2.0582305184676093  with strike  100.0\n",
      "Call equals:  0.0005955936386420905  Put equals:  19.501624717062178  with strike  120.0\n"
     ]
    }
   ],
   "source": [
    "MCHeston(S0, r, T, sigma, kappa, theta, rho, I, M, BIAS=True)"
   ]
  },
  {
   "attachments": {
    "image.png": {
     "image/png": "[encoded data removed]"
    }
   },
   "cell_type": "markdown",
   "id": "2ce029f8",
   "metadata": {},
   "source": [
    "![image.png](attachment:image.png) \n",
    "The above image indicates the results when you use the BIAS as false."
   ]
  },
  {
   "cell_type": "markdown",
   "id": "f33b2ed8",
   "metadata": {},
   "source": [
    "## Homework 8\n",
    "Get data from web and do portfolio minimization tasks on a set of stocks of your choice.\n",
    "\n",
    "Describe your optimal portfolio explictly. Write down the weights, expected portfolio return, standard deviation of the portfolio return and the Sharpe ratio.\n",
    "\n",
    "Hope you get a portfolio with better Sharpe ratio, preferabbly a value higher than one. The portfolio used in this lecture is simply for demonstration purpose, it is not necessarily the best-diversified portfolio.\n",
    "\n",
    "However, if you change the end date of the data collection to sometime before the pandemic, re-run the optimization, you will get a higher Shape ratio."
   ]
  },
  {
   "cell_type": "code",
   "execution_count": 5,
   "id": "7267df8c",
   "metadata": {},
   "outputs": [
    {
     "data": {
      "text/html": [
       "<div>\n",
       "<style scoped>\n",
       "    .dataframe tbody tr th:only-of-type {\n",
       "        vertical-align: middle;\n",
       "    }\n",
       "\n",
       "    .dataframe tbody tr th {\n",
       "        vertical-align: top;\n",
       "    }\n",
       "\n",
       "    .dataframe thead th {\n",
       "        text-align: right;\n",
       "    }\n",
       "</style>\n",
       "<table border=\"1\" class=\"dataframe\">\n",
       "  <thead>\n",
       "    <tr style=\"text-align: right;\">\n",
       "      <th>Symbols</th>\n",
       "      <th>Date</th>\n",
       "      <th>PFE</th>\n",
       "      <th>NFLX</th>\n",
       "      <th>ABB</th>\n",
       "      <th>AZN</th>\n",
       "      <th>META</th>\n",
       "    </tr>\n",
       "  </thead>\n",
       "  <tbody>\n",
       "    <tr>\n",
       "      <th>0</th>\n",
       "      <td>2012-11-16</td>\n",
       "      <td>15.826694</td>\n",
       "      <td>11.557143</td>\n",
       "      <td>12.484469</td>\n",
       "      <td>15.084775</td>\n",
       "      <td>23.559999</td>\n",
       "    </tr>\n",
       "    <tr>\n",
       "      <th>1</th>\n",
       "      <td>2012-11-19</td>\n",
       "      <td>16.012424</td>\n",
       "      <td>11.622857</td>\n",
       "      <td>12.738534</td>\n",
       "      <td>15.254884</td>\n",
       "      <td>22.920000</td>\n",
       "    </tr>\n",
       "    <tr>\n",
       "      <th>2</th>\n",
       "      <td>2012-11-20</td>\n",
       "      <td>16.105284</td>\n",
       "      <td>11.771429</td>\n",
       "      <td>12.703249</td>\n",
       "      <td>15.346736</td>\n",
       "      <td>23.100000</td>\n",
       "    </tr>\n",
       "    <tr>\n",
       "      <th>3</th>\n",
       "      <td>2012-11-21</td>\n",
       "      <td>16.151714</td>\n",
       "      <td>11.857143</td>\n",
       "      <td>12.900856</td>\n",
       "      <td>15.431788</td>\n",
       "      <td>24.320000</td>\n",
       "    </tr>\n",
       "    <tr>\n",
       "      <th>4</th>\n",
       "      <td>2012-11-23</td>\n",
       "      <td>16.271111</td>\n",
       "      <td>11.850000</td>\n",
       "      <td>13.274894</td>\n",
       "      <td>15.806013</td>\n",
       "      <td>24.000000</td>\n",
       "    </tr>\n",
       "    <tr>\n",
       "      <th>...</th>\n",
       "      <td>...</td>\n",
       "      <td>...</td>\n",
       "      <td>...</td>\n",
       "      <td>...</td>\n",
       "      <td>...</td>\n",
       "      <td>...</td>\n",
       "    </tr>\n",
       "    <tr>\n",
       "      <th>2518</th>\n",
       "      <td>2022-11-17</td>\n",
       "      <td>48.330002</td>\n",
       "      <td>295.279999</td>\n",
       "      <td>30.490000</td>\n",
       "      <td>64.059998</td>\n",
       "      <td>111.449997</td>\n",
       "    </tr>\n",
       "    <tr>\n",
       "      <th>2519</th>\n",
       "      <td>2022-11-18</td>\n",
       "      <td>48.230000</td>\n",
       "      <td>287.980011</td>\n",
       "      <td>30.719999</td>\n",
       "      <td>65.070000</td>\n",
       "      <td>112.050003</td>\n",
       "    </tr>\n",
       "    <tr>\n",
       "      <th>2520</th>\n",
       "      <td>2022-11-21</td>\n",
       "      <td>48.180000</td>\n",
       "      <td>285.049988</td>\n",
       "      <td>30.680000</td>\n",
       "      <td>65.430000</td>\n",
       "      <td>109.860001</td>\n",
       "    </tr>\n",
       "    <tr>\n",
       "      <th>2521</th>\n",
       "      <td>2022-11-22</td>\n",
       "      <td>49.080002</td>\n",
       "      <td>286.690002</td>\n",
       "      <td>31.150000</td>\n",
       "      <td>66.000000</td>\n",
       "      <td>111.440002</td>\n",
       "    </tr>\n",
       "    <tr>\n",
       "      <th>2522</th>\n",
       "      <td>2022-11-23</td>\n",
       "      <td>48.849998</td>\n",
       "      <td>291.500000</td>\n",
       "      <td>31.440001</td>\n",
       "      <td>66.120003</td>\n",
       "      <td>112.239998</td>\n",
       "    </tr>\n",
       "  </tbody>\n",
       "</table>\n",
       "<p>2523 rows × 6 columns</p>\n",
       "</div>"
      ],
      "text/plain": [
       "Symbols       Date        PFE        NFLX        ABB        AZN        META\n",
       "0       2012-11-16  15.826694   11.557143  12.484469  15.084775   23.559999\n",
       "1       2012-11-19  16.012424   11.622857  12.738534  15.254884   22.920000\n",
       "2       2012-11-20  16.105284   11.771429  12.703249  15.346736   23.100000\n",
       "3       2012-11-21  16.151714   11.857143  12.900856  15.431788   24.320000\n",
       "4       2012-11-23  16.271111   11.850000  13.274894  15.806013   24.000000\n",
       "...            ...        ...         ...        ...        ...         ...\n",
       "2518    2022-11-17  48.330002  295.279999  30.490000  64.059998  111.449997\n",
       "2519    2022-11-18  48.230000  287.980011  30.719999  65.070000  112.050003\n",
       "2520    2022-11-21  48.180000  285.049988  30.680000  65.430000  109.860001\n",
       "2521    2022-11-22  49.080002  286.690002  31.150000  66.000000  111.440002\n",
       "2522    2022-11-23  48.849998  291.500000  31.440001  66.120003  112.239998\n",
       "\n",
       "[2523 rows x 6 columns]"
      ]
     },
     "execution_count": 5,
     "metadata": {},
     "output_type": "execute_result"
    }
   ],
   "source": [
    "import pandas as pd\n",
    "import pandas_datareader as pdr\n",
    "import pandas_datareader.data as web\n",
    "import scipy.optimize as sco  # need an optimizer here\n",
    "#get the data of Pfizer, Nexflix, ABB, Astra Zeneca and Meta\n",
    "symbols= ['PFE','NFLX','ABB', 'AZN', 'META' ]\n",
    "data = web.DataReader(symbols,'yahoo', start=\"2012-11-16\", end=\"2022-11-23\")['Adj Close']\n",
    "data.dropna() #drop the NaN values (in case there are some)\n",
    "data.reset_index() # reset the index"
   ]
  },
  {
   "cell_type": "code",
   "execution_count": 6,
   "id": "e976dbc7",
   "metadata": {},
   "outputs": [
    {
     "data": {
      "text/html": [
       "<div>\n",
       "<style scoped>\n",
       "    .dataframe tbody tr th:only-of-type {\n",
       "        vertical-align: middle;\n",
       "    }\n",
       "\n",
       "    .dataframe tbody tr th {\n",
       "        vertical-align: top;\n",
       "    }\n",
       "\n",
       "    .dataframe thead th {\n",
       "        text-align: right;\n",
       "    }\n",
       "</style>\n",
       "<table border=\"1\" class=\"dataframe\">\n",
       "  <thead>\n",
       "    <tr style=\"text-align: right;\">\n",
       "      <th>Symbols</th>\n",
       "      <th>PFE</th>\n",
       "      <th>NFLX</th>\n",
       "      <th>ABB</th>\n",
       "      <th>AZN</th>\n",
       "      <th>META</th>\n",
       "    </tr>\n",
       "    <tr>\n",
       "      <th>Symbols</th>\n",
       "      <th></th>\n",
       "      <th></th>\n",
       "      <th></th>\n",
       "      <th></th>\n",
       "      <th></th>\n",
       "    </tr>\n",
       "  </thead>\n",
       "  <tbody>\n",
       "    <tr>\n",
       "      <th>PFE</th>\n",
       "      <td>0.047711</td>\n",
       "      <td>0.017813</td>\n",
       "      <td>0.018099</td>\n",
       "      <td>0.021677</td>\n",
       "      <td>0.020040</td>\n",
       "    </tr>\n",
       "    <tr>\n",
       "      <th>NFLX</th>\n",
       "      <td>0.017813</td>\n",
       "      <td>0.226844</td>\n",
       "      <td>0.030869</td>\n",
       "      <td>0.024323</td>\n",
       "      <td>0.074816</td>\n",
       "    </tr>\n",
       "    <tr>\n",
       "      <th>ABB</th>\n",
       "      <td>0.018099</td>\n",
       "      <td>0.030869</td>\n",
       "      <td>0.056441</td>\n",
       "      <td>0.020381</td>\n",
       "      <td>0.031860</td>\n",
       "    </tr>\n",
       "    <tr>\n",
       "      <th>AZN</th>\n",
       "      <td>0.021677</td>\n",
       "      <td>0.024323</td>\n",
       "      <td>0.020381</td>\n",
       "      <td>0.061144</td>\n",
       "      <td>0.023768</td>\n",
       "    </tr>\n",
       "    <tr>\n",
       "      <th>META</th>\n",
       "      <td>0.020040</td>\n",
       "      <td>0.074816</td>\n",
       "      <td>0.031860</td>\n",
       "      <td>0.023768</td>\n",
       "      <td>0.147523</td>\n",
       "    </tr>\n",
       "  </tbody>\n",
       "</table>\n",
       "</div>"
      ],
      "text/plain": [
       "Symbols       PFE      NFLX       ABB       AZN      META\n",
       "Symbols                                                  \n",
       "PFE      0.047711  0.017813  0.018099  0.021677  0.020040\n",
       "NFLX     0.017813  0.226844  0.030869  0.024323  0.074816\n",
       "ABB      0.018099  0.030869  0.056441  0.020381  0.031860\n",
       "AZN      0.021677  0.024323  0.020381  0.061144  0.023768\n",
       "META     0.020040  0.074816  0.031860  0.023768  0.147523"
      ]
     },
     "execution_count": 6,
     "metadata": {},
     "output_type": "execute_result"
    }
   ],
   "source": [
    "# daily returns including index\n",
    "retsAsset = np.log(data / data.shift(1)) #calculate the returns for each asset\n",
    "# noa is number of asset\n",
    "noa = len(symbols) \n",
    "\n",
    "dailyCov = retsAsset.cov() #get the daily covariance\n",
    "# covariances of the returns for the assets\n",
    "covMatrix = dailyCov * 252 #\n",
    "covMatrix"
   ]
  },
  {
   "cell_type": "code",
   "execution_count": 7,
   "id": "24840b17",
   "metadata": {},
   "outputs": [],
   "source": [
    "def portfolio_stats(weights):\n",
    "    ''' Return portfolio statistics.\n",
    "    \n",
    "    Parameters\n",
    "    ==========\n",
    "    weights : array-like\n",
    "        weights for different securities in portfolio\n",
    "    \n",
    "    Returns\n",
    "    =======\n",
    "    pret : float\n",
    "        expected portfolio return\n",
    "    pvol : float\n",
    "        volatility of portfolio return\n",
    "    pret / pvol : float\n",
    "        Sharpe ratio, assuming risk free-rate rf=0\n",
    "    '''\n",
    "    weights = np.array(weights) #make an array \n",
    "    pret = np.sum(retsAsset.mean() * weights) * 252 #calculate the portfolio returns\n",
    "    pvol = np.sqrt(np.dot(weights.T, np.dot(covMatrix, weights))) #portfolio volatility\n",
    "    return np.array([pret, pvol, pret / pvol]) #return the return, volatility, sharpe ratio"
   ]
  },
  {
   "cell_type": "code",
   "execution_count": 8,
   "id": "82d7d1e3",
   "metadata": {},
   "outputs": [],
   "source": [
    " def min_func_sharpe(weights):\n",
    "    return -portfolio_stats(weights)[2] #here we maximize the sharpe ratio"
   ]
  },
  {
   "cell_type": "code",
   "execution_count": 9,
   "id": "c222b149",
   "metadata": {},
   "outputs": [
    {
     "data": {
      "text/plain": [
       "((0, 1), (0, 1), (0, 1), (0, 1), (0, 1))"
      ]
     },
     "execution_count": 9,
     "metadata": {},
     "output_type": "execute_result"
    }
   ],
   "source": [
    "constraint = ({'type': 'eq', 'fun': lambda x:  np.sum(x) - 1}) # a tuple of dict\n",
    "# tuple comprehension, must use tuple(       )\n",
    "bounds = tuple((0, 1) for x in range(noa))\n",
    "bounds #bounds for the 5 assets"
   ]
  },
  {
   "cell_type": "code",
   "execution_count": 10,
   "id": "d26b6b5d",
   "metadata": {},
   "outputs": [
    {
     "data": {
      "text/plain": [
       "array([0.2, 0.2, 0.2, 0.2, 0.2])"
      ]
     },
     "execution_count": 10,
     "metadata": {},
     "output_type": "execute_result"
    }
   ],
   "source": [
    "equallyWeights= np.ones(noa)*(1./noa)\n",
    "equallyWeights"
   ]
  },
  {
   "cell_type": "code",
   "execution_count": 11,
   "id": "7a87e912",
   "metadata": {},
   "outputs": [
    {
     "data": {
      "text/plain": [
       "     fun: -0.8593660524437869\n",
       "     jac: array([-3.67045403e-04, -3.37526202e-04,  7.56680965e-05,  5.61334193e-04,\n",
       "       -2.23062932e-04])\n",
       " message: 'Optimization terminated successfully'\n",
       "    nfev: 36\n",
       "     nit: 6\n",
       "    njev: 6\n",
       "  status: 0\n",
       " success: True\n",
       "       x: array([0.30574672, 0.28784099, 0.01246957, 0.37775372, 0.016189  ])"
      ]
     },
     "execution_count": 11,
     "metadata": {},
     "output_type": "execute_result"
    }
   ],
   "source": [
    "opts = sco.minimize(min_func_sharpe, equallyWeights, method='SLSQP',\n",
    "                       bounds=bounds, constraints=constraint)\n",
    "opts"
   ]
  },
  {
   "cell_type": "code",
   "execution_count": 12,
   "id": "5f0f7d23",
   "metadata": {},
   "outputs": [
    {
     "name": "stdout",
     "output_type": "stream",
     "text": [
      "Weights for portfolio with highest Sharpe Ratio [0.306 0.288 0.012 0.378 0.016]\n"
     ]
    }
   ],
   "source": [
    "# optimization yields a portfolio of only three out of five assets\n",
    "print('Weights for portfolio with highest Sharpe Ratio', opts['x'].round(3)) "
   ]
  },
  {
   "cell_type": "code",
   "execution_count": 13,
   "id": "3a1418e2",
   "metadata": {},
   "outputs": [
    {
     "name": "stdout",
     "output_type": "stream",
     "text": [
      "The return, volatility, and Sharpe-Ratio are: [0.187 0.217 0.859]\n"
     ]
    }
   ],
   "source": [
    "print('The return, volatility, and Sharpe-Ratio are:', portfolio_stats(opts['x']).round(3))"
   ]
  },
  {
   "cell_type": "code",
   "execution_count": 14,
   "id": "ddb90afe",
   "metadata": {},
   "outputs": [
    {
     "data": {
      "text/plain": [
       "     fun: 0.030867114415310964\n",
       "     jac: array([0.0616862 , 0.06183408, 0.06192069, 0.06159052, 0.06160272])\n",
       " message: 'Optimization terminated successfully'\n",
       "    nfev: 60\n",
       "     nit: 10\n",
       "    njev: 10\n",
       "  status: 0\n",
       " success: True\n",
       "       x: array([0.39946175, 0.02613231, 0.29879846, 0.23705885, 0.03854863])"
      ]
     },
     "execution_count": 14,
     "metadata": {},
     "output_type": "execute_result"
    }
   ],
   "source": [
    "# objective function if you want to minimize variance\n",
    "def min_func_variance(weights):\n",
    "    return portfolio_stats(weights)[1] ** 2\n",
    "\n",
    "optv = sco.minimize(min_func_variance, equallyWeights, method='SLSQP',\n",
    "                       bounds=bounds, constraints=constraint)\n",
    "optv"
   ]
  },
  {
   "cell_type": "code",
   "execution_count": 15,
   "id": "b99ae36a",
   "metadata": {},
   "outputs": [
    {
     "name": "stdout",
     "output_type": "stream",
     "text": [
      "Weights for the optimal portfolio [0.399 0.026 0.299 0.237 0.039]\n"
     ]
    }
   ],
   "source": [
    "print('Weights for the optimal portfolio',optv['x'].round(3))"
   ]
  },
  {
   "cell_type": "code",
   "execution_count": 16,
   "id": "cb798cd1",
   "metadata": {},
   "outputs": [
    {
     "name": "stdout",
     "output_type": "stream",
     "text": [
      "Optimal Portfolio: the return, volatility, standard deviation and Sharpe-Ratio are: [0.122 0.176 0.694]\n"
     ]
    }
   ],
   "source": [
    "print('Optimal Portfolio: the return, volatility, standard deviation and Sharpe-Ratio are:', portfolio_stats(optv['x']).round(3))"
   ]
  },
  {
   "attachments": {
    "image.png": {
     "image/png": "[encoded data removed]"
    }
   },
   "cell_type": "markdown",
   "id": "3f223d09",
   "metadata": {},
   "source": [
    "Sharpe-Ratio here is basically low as I took into consideration the period of the pandemic. When I re-ran the code with the same starting period to 2019-01-01 I got: ![image.png](attachment:image.png) which basically is what we wanted to see a Sharpe Ratio over 1 since portfolios with sharpe ratio over 1 usually offering excess returns relative to volatility."
   ]
  },
  {
   "cell_type": "markdown",
   "id": "edafe387",
   "metadata": {},
   "source": [
    "### Continuation of exercise above"
   ]
  },
  {
   "cell_type": "code",
   "execution_count": 17,
   "id": "8bfa78a8",
   "metadata": {},
   "outputs": [],
   "source": [
    "def min_func_port(weights):\n",
    "    return portfolio_stats(weights)[1]\n",
    "\n",
    "trets = np.linspace(0.0,0.18,50) # the target returns\n",
    "tvols = [] # volatility\n",
    "for tret in trets: \n",
    "    #print(tret)\n",
    "    #print('The minimum vol is', opts['fun'])\n",
    "    cons = ({'type': 'eq', 'fun': lambda x:  portfolio_stats(x)[0] - tret}, #make the constraints as they were given in the lectures\n",
    "            {'type': 'eq', 'fun': lambda x:  np.sum(x) - 1})\n",
    "    res = sco.minimize(min_func_port, equallyWeights, method='SLSQP',bounds=bounds, constraints=cons) #here basically is the same as in the exercise 8 but I had some problems with applying the two constraints\n",
    "    # to the exercise's 8 code\n",
    "    tvols.append(res['fun']) #the value of the objective, i.e. standard deviation\n",
    "tvols = np.array(tvols)"
   ]
  },
  {
   "cell_type": "code",
   "execution_count": 18,
   "id": "3fb9ebdc",
   "metadata": {},
   "outputs": [
    {
     "data": {
      "text/plain": [
       "33"
      ]
     },
     "execution_count": 18,
     "metadata": {},
     "output_type": "execute_result"
    }
   ],
   "source": [
    "df= pd.DataFrame([trets, tvols]).T\n",
    "df.columns =['Target Return', 'Vol']\n",
    "df['Vol'].idxmin()"
   ]
  },
  {
   "cell_type": "code",
   "execution_count": 19,
   "id": "7dc29b18",
   "metadata": {},
   "outputs": [
    {
     "name": "stdout",
     "output_type": "stream",
     "text": [
      "33\n",
      "[0.17569765 0.17577744 0.17615843 0.17683527 0.17780718 0.17906954\n",
      " 0.18061539 0.18243738 0.18452748 0.18687737 0.18947617 0.19231516\n",
      " 0.19538261 0.19866889 0.20216301 0.20585431 0.20973241]\n"
     ]
    },
    {
     "data": {
      "text/plain": [
       "array([0.12122449, 0.12489796, 0.12857143, 0.1322449 , 0.13591837,\n",
       "       0.13959184, 0.14326531, 0.14693878, 0.15061224, 0.15428571,\n",
       "       0.15795918, 0.16163265, 0.16530612, 0.16897959, 0.17265306,\n",
       "       0.17632653, 0.18      ])"
      ]
     },
     "execution_count": 19,
     "metadata": {},
     "output_type": "execute_result"
    }
   ],
   "source": [
    "#Returns the indices of the minimum values \n",
    "ind = np.argmin(tvols)\n",
    "print(ind)\n",
    "\n",
    "# take away the lower part of curve to the efficient frontier\n",
    "evols = tvols[ind:]\n",
    "erets = trets[ind:]\n",
    "print(evols)\n",
    "erets"
   ]
  },
  {
   "cell_type": "code",
   "execution_count": 20,
   "id": "259fed05",
   "metadata": {},
   "outputs": [],
   "source": [
    "# prepare lists for portfolio returns and volatilities\n",
    "prets = []\n",
    "pvols = []\n",
    "# randomly generate 5000 portfolios\n",
    "for p in range (2500):\n",
    "    weights = np.random.random(noa)\n",
    "    weights /= np.sum(weights)\n",
    "        \n",
    "    # portfolio return\n",
    "    prets.append(np.sum(retsAsset.mean() * weights) * 252)\n",
    "    #portfolio volatility\n",
    "    pvols.append(np.sqrt(np.dot(weights, \n",
    "                        np.dot(retsAsset.cov() * 252, weights.T))))\n",
    "prets = np.array(prets)\n",
    "pvols = np.array(pvols)"
   ]
  },
  {
   "cell_type": "code",
   "execution_count": 21,
   "id": "9c634a08",
   "metadata": {},
   "outputs": [
    {
     "data": {
      "text/plain": [
       "Text(0.5, 1.0, 'Minimum risk portfolios for given return level (crosses)')"
      ]
     },
     "execution_count": 21,
     "metadata": {},
     "output_type": "execute_result"
    },
    {
     "data": {
      "image/png": "[encoded data removed]",
      "text/plain": [
       "<Figure size 576x288 with 2 Axes>"
      ]
     },
     "metadata": {},
     "output_type": "display_data"
    }
   ],
   "source": [
    "plt.figure(figsize=(8, 4))\n",
    "plt.scatter(pvols, prets, c=prets/pvols, marker='o', cmap=plt.cm.coolwarm )\n",
    "            # random portfolio composition\n",
    "plt.scatter(evols, erets, c = erets/evols,marker='x', cmap=plt.cm.coolwarm)\n",
    "            # efficient frontier\n",
    "plt.plot(portfolio_stats(opts['x'])[1], portfolio_stats(opts['x'])[0],\n",
    "         'b*', markersize=15.0)\n",
    "            # the sharpe ratio of the portfolio\n",
    "plt.plot(portfolio_stats(optv['x'])[1], portfolio_stats(optv['x'])[0],\n",
    "         'r*', markersize=15.0)\n",
    "            # minimum variance portfolio\n",
    "plt.grid(True)\n",
    "plt.xlabel('portfolio standard deviation')\n",
    "plt.ylabel('expected return')\n",
    "plt.colorbar(label='Sharpe ratio')\n",
    "plt.title('Minimum risk portfolios for given return level (crosses)')\n",
    "# here the capital market line must be tangent to the portfolio with the blue star\n",
    "# in the next photo where I plot the capital market line but I think it is not fully optimized for some reason\n",
    "# in case Ying you can find where I am mistaken I would be glad to fix it \n",
    "# However for me after a lot of tests I did not manage to find out why\n",
    "# the methodology of plotting is the same as the one you used I just fixed it like that to see\n",
    "# if it was slightly different in terms of the plot"
   ]
  },
  {
   "cell_type": "code",
   "execution_count": 22,
   "id": "9ba49b34",
   "metadata": {},
   "outputs": [],
   "source": [
    "import scipy.interpolate as sci\n",
    "risk_free = 0.01"
   ]
  },
  {
   "cell_type": "code",
   "execution_count": 23,
   "id": "b57bf2ce",
   "metadata": {},
   "outputs": [
    {
     "name": "stdout",
     "output_type": "stream",
     "text": [
      "(array([0.17569765, 0.17569765, 0.17569765, 0.17569765, 0.17615843,\n",
      "       0.17683527, 0.17780718, 0.17906954, 0.18061539, 0.18243738,\n",
      "       0.18452748, 0.18687737, 0.18947617, 0.19231516, 0.19538261,\n",
      "       0.19866889, 0.20216301, 0.20973241, 0.20973241, 0.20973241,\n",
      "       0.20973241]), array([0.12122449, 0.12990072, 0.12686626, 0.13399884, 0.13591811,\n",
      "       0.14012481, 0.14350286, 0.14720721, 0.15081919, 0.15447083,\n",
      "       0.15812021, 0.16177396, 0.16543222, 0.16909176, 0.17410955,\n",
      "       0.17766278, 0.18      , 0.        , 0.        , 0.        ,\n",
      "       0.        ]), 3)\n"
     ]
    }
   ],
   "source": [
    "tck = sci.splrep(evols, erets)\n",
    "print(tck)"
   ]
  },
  {
   "cell_type": "code",
   "execution_count": 24,
   "id": "4a7b7564",
   "metadata": {},
   "outputs": [],
   "source": [
    "def f(x):\n",
    "    ''' Efficient frontier function (splines approximation). '''\n",
    "    return sci.splev(x, tck, der=0)\n",
    "def df(x):\n",
    "    ''' First derivative of efficient frontier function. '''\n",
    "    return sci.splev(x, tck, der=1)"
   ]
  },
  {
   "cell_type": "code",
   "execution_count": 25,
   "id": "121bb6dc",
   "metadata": {},
   "outputs": [
    {
     "name": "stderr",
     "output_type": "stream",
     "text": [
      "C:\\Users\\nicko\\anaconda3\\lib\\site-packages\\scipy\\optimize\\minpack.py:175: RuntimeWarning: The iteration is not making good progress, as measured by the \n",
      "  improvement from the last ten iterations.\n",
      "  warnings.warn(msg, RuntimeWarning)\n"
     ]
    },
    {
     "data": {
      "text/plain": [
       "array([0.001     , 0.86125554, 0.22291253])"
      ]
     },
     "execution_count": 25,
     "metadata": {},
     "output_type": "execute_result"
    }
   ],
   "source": [
    "def equations(p, rf=0.001):\n",
    "    eq1 = rf - p[0]\n",
    "    eq2 = rf + p[1] * p[2] - f(p[2])\n",
    "    eq3 = p[1] - df(p[2])\n",
    "    return eq1, eq2, eq3\n",
    "opt = sco.fsolve(equations, [0.001,0.5,0.18])\n",
    "opt\n",
    "# here the warning is unavoidable as this is the only way of making the capital market line \n",
    "# to come almost tangent the portfolio with the sharpe ratio portfolio. In general as I read through the material\n",
    "# of this fsolve they say that it is kinda buggy when you try to use different numbers. Usually you have to put first\n",
    "# the interest rate, then half of the expected returns and half of the vol.\n",
    "# However this does not work with my data so well. \n",
    "# In case you find any problem feel free to give me feedback and I will try to fix it and re upload again"
   ]
  },
  {
   "cell_type": "code",
   "execution_count": 26,
   "id": "78d56838",
   "metadata": {},
   "outputs": [
    {
     "name": "stdout",
     "output_type": "stream",
     "text": [
      "0.1929846548725261\n",
      "0.1916400473916724\n",
      "Derivative of efficient frontier at tangent point: 0.8615554209167966\n"
     ]
    },
    {
     "data": {
      "text/plain": [
       "array([ 0.      ,  0.001345, -0.0003  ])"
      ]
     },
     "execution_count": 26,
     "metadata": {},
     "output_type": "execute_result"
    }
   ],
   "source": [
    "# check if the solution solves the system\n",
    "\n",
    "#check eq 2\n",
    "print(opt[0]+opt[1]*opt[2])\n",
    "print(f(opt[2]))\n",
    "\n",
    "#check eq 3\n",
    "print('Derivative of efficient frontier at tangent point:', df(opt[2]))\n",
    "np.round(equations(opt), 6)"
   ]
  },
  {
   "cell_type": "code",
   "execution_count": 27,
   "id": "d62ecf4c",
   "metadata": {},
   "outputs": [
    {
     "data": {
      "text/plain": [
       "<matplotlib.colorbar.Colorbar at 0x190a8f84a00>"
      ]
     },
     "execution_count": 27,
     "metadata": {},
     "output_type": "execute_result"
    },
    {
     "data": {
      "image/png": "[encoded data removed]",
      "text/plain": [
       "<Figure size 576x288 with 2 Axes>"
      ]
     },
     "metadata": {},
     "output_type": "display_data"
    }
   ],
   "source": [
    "plt.figure(figsize=(8, 4))\n",
    "plt.scatter(pvols, prets,\n",
    "            c=(prets - 0.01) / pvols, marker='o', cmap=plt.cm.coolwarm)\n",
    "            # random portfolio composition\n",
    "plt.plot(evols, erets, 'g', lw=4.0)\n",
    "            # efficient frontier\n",
    "cx = np.linspace(0.0, 0.3)\n",
    "plt.plot(cx, opt[0] + opt[1] * cx, lw=1.5)\n",
    "            # capital market line\n",
    "plt.plot(opt[2], f(opt[2]), 'r*', markersize=15.0) \n",
    "plt.grid(True)\n",
    "plt.axhline(0, color='k', ls='--', lw=2.0)\n",
    "plt.axvline(0, color='k', ls='--', lw=2.0)\n",
    "plt.xlabel('expected volatility')\n",
    "plt.ylabel('expected return')\n",
    "plt.colorbar(label='Sharpe ratio')"
   ]
  },
  {
   "cell_type": "markdown",
   "id": "6a18ec49",
   "metadata": {},
   "source": [
    "## Exercise 4\n",
    "Choose one of the following alternatives:\n",
    "\n",
    "Alternative 1\n",
    "\n",
    "Do intepolation and curve fitting to the following data sets.\n",
    "\n",
    "Suppose the total number of cases are reported at day 0, 1, 2, 7, 8, 9, 14, 15, 16, but not for day 3, 4, 5, 6, 10, 11, 12, 13.\n",
    "\n",
    "- Using any interpolation kind of your choice, fill in values for reported cases for the missing days. \n",
    "- After interpolation, fit a approximation function (of your choice) to the data set. You may try with linear growth or exponential growth.\n"
   ]
  },
  {
   "cell_type": "code",
   "execution_count": 28,
   "id": "90043142",
   "metadata": {},
   "outputs": [
    {
     "data": {
      "text/plain": [
       "[<matplotlib.lines.Line2D at 0x190a9012b20>]"
      ]
     },
     "execution_count": 28,
     "metadata": {},
     "output_type": "execute_result"
    },
    {
     "data": {
      "image/png": "[encoded data removed]",
      "text/plain": [
       "<Figure size 576x396 with 1 Axes>"
      ]
     },
     "metadata": {},
     "output_type": "display_data"
    }
   ],
   "source": [
    "# data for alternative one\n",
    "# np.nan for the missing data\n",
    "a = pd.Series([106380,107355,108969,np.nan,np.nan,np.nan,np.nan,\n",
    "                           115785,117913,121167,np.nan,np.nan,np.nan,np.nan,134532,137730,141764])\n",
    "day_given = [0, 1, 2, 7, 8, 9, 14, 15, 16]\n",
    "day_missing = [3,4,5,6,10,11,12,13]\n",
    "cases_given = [106380, 107355, 108969, 115785, 117913, 121167, 134532, 137730,\n",
    "       141764]\n",
    "plt.plot(day_given, cases_given, 'r*')\n",
    "# plot the given days\n"
   ]
  },
  {
   "cell_type": "code",
   "execution_count": 37,
   "id": "2cd80148",
   "metadata": {},
   "outputs": [],
   "source": [
    "interpolate = a.interpolate().copy() #use the interpolate in build function that gives a nice and smooth result\n",
    "# which by default is calling the \"linear\" interpolation"
   ]
  },
  {
   "cell_type": "code",
   "execution_count": 30,
   "id": "8b6298fd",
   "metadata": {},
   "outputs": [
    {
     "data": {
      "text/plain": [
       "0     106380.0\n",
       "1     107355.0\n",
       "2     108969.0\n",
       "3     110332.2\n",
       "4     111695.4\n",
       "5     113058.6\n",
       "6     114421.8\n",
       "7     115785.0\n",
       "8     117913.0\n",
       "9     121167.0\n",
       "10    123840.0\n",
       "11    126513.0\n",
       "12    129186.0\n",
       "13    131859.0\n",
       "14    134532.0\n",
       "15    137730.0\n",
       "16    141764.0\n",
       "dtype: float64"
      ]
     },
     "execution_count": 30,
     "metadata": {},
     "output_type": "execute_result"
    }
   ],
   "source": [
    "interpolate #this is how the data looks\n"
   ]
  },
  {
   "cell_type": "code",
   "execution_count": 31,
   "id": "c30d2bb3",
   "metadata": {},
   "outputs": [
    {
     "data": {
      "text/plain": [
       "Text(0.5, 1.0, 'Linear interpolation of missing cases by using pandas interpolate()')"
      ]
     },
     "execution_count": 31,
     "metadata": {},
     "output_type": "execute_result"
    },
    {
     "data": {
      "image/png": "[encoded data removed]",
      "text/plain": [
       "<Figure size 576x396 with 1 Axes>"
      ]
     },
     "metadata": {},
     "output_type": "display_data"
    }
   ],
   "source": [
    "plt.plot(day_given, cases_given, 'bo', label='Given points')\n",
    "plt.plot(interpolate, 'r.', label='Interpolated points')\n",
    "plt.legend(loc=0)\n",
    "plt.title('Linear interpolation of missing cases by using pandas interpolate()')\n",
    "# plot the missing and given points"
   ]
  },
  {
   "cell_type": "code",
   "execution_count": 32,
   "id": "6a6b7c65",
   "metadata": {},
   "outputs": [],
   "source": [
    "data = interpolate[0:17] #use another variable called data"
   ]
  },
  {
   "cell_type": "code",
   "execution_count": 33,
   "id": "5b9f2e39",
   "metadata": {},
   "outputs": [
    {
     "name": "stdout",
     "output_type": "stream",
     "text": [
      "range(0, 17)\n",
      "[8.40323787e+01 8.39925568e+02 1.06621099e+05]\n"
     ]
    }
   ],
   "source": [
    "xaxis = range(len(data.index))\n",
    "print(xaxis)\n",
    "coefficients = np.polyfit(xaxis,data,2)\n",
    "print(coefficients) #take the range of the data and use np.polyfit to fit a polynomial"
   ]
  },
  {
   "cell_type": "code",
   "execution_count": 34,
   "id": "86589769",
   "metadata": {},
   "outputs": [],
   "source": [
    "f = np.poly1d(coefficients) #here this gives back a function with our coefficients "
   ]
  },
  {
   "cell_type": "code",
   "execution_count": 35,
   "id": "19880c94",
   "metadata": {},
   "outputs": [
    {
     "name": "stdout",
     "output_type": "stream",
     "text": [
      "       2\n",
      "84.03 x + 839.9 x + 1.066e+05\n"
     ]
    }
   ],
   "source": [
    "print(np.poly1d(coefficients))"
   ]
  },
  {
   "cell_type": "code",
   "execution_count": 36,
   "id": "83e1dfd2",
   "metadata": {},
   "outputs": [
    {
     "data": {
      "text/plain": [
       "<matplotlib.legend.Legend at 0x190a8fe9eb0>"
      ]
     },
     "execution_count": 36,
     "metadata": {},
     "output_type": "execute_result"
    },
    {
     "data": {
      "image/png": "[encoded data removed]",
      "text/plain": [
       "<Figure size 576x396 with 1 Axes>"
      ]
     },
     "metadata": {},
     "output_type": "display_data"
    }
   ],
   "source": [
    "fig, ax = plt.subplots()\n",
    "plt.plot(xaxis, data)\n",
    "plt.plot(xaxis,f(xaxis))\n",
    "ax.legend(['polynomial','real data']) #plot the real data and the fitting curve"
   ]
  }
 ],
 "metadata": {
  "kernelspec": {
   "display_name": "Python 3 (ipykernel)",
   "language": "python",
   "name": "python3"
  },
  "language_info": {
   "codemirror_mode": {
    "name": "ipython",
    "version": 3
   },
   "file_extension": ".py",
   "mimetype": "text/x-python",
   "name": "python",
   "nbconvert_exporter": "python",
   "pygments_lexer": "ipython3",
   "version": "3.9.7"
  }
 },
 "nbformat": 4,
 "nbformat_minor": 5
}

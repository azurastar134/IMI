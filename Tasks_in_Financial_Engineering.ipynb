{
 "cells": [
  {
   "cell_type": "markdown",
   "id": "74f27ec7",
   "metadata": {},
   "source": [
    "## TASK 1 \n",
    "Write a function compute the CF  fj(x,v,T,ϕ)  in Heston model as in Heston (1993). Recall that the imaginary number  i  is coded as  1j  in Python. Check your function with the following inputs. You should get as ouput: (0.9999999999892609+4.632064148415667e-06j)"
   ]
  },
  {
   "cell_type": "code",
   "execution_count": 1,
   "id": "febe474f",
   "metadata": {},
   "outputs": [],
   "source": [
    "import numpy as np\n",
    "import math \n",
    "\n",
    "# Numerical example to check your coded CF \n",
    "# Option features\n",
    "S0 = 100; K = 100\n",
    "T = 0.5       # Maturity\n",
    "# we do not have any t here so i guess we pick tau = 0.5 - 0 = 0.5\n",
    "r = 0.03;   # risk-free rate; \n",
    "# Heston parameters\n",
    "tau = .5\n",
    "kappa = 5; sigma = 0.5;  rho   = -0.8;  theta = 0.05; v0 = 0.05; lam = 0; q=0 #dividend yield\n",
    "# The phi variable value\n",
    "phi= 0.000001\n",
    "\n",
    "def heston_CF(phi, kappa, theta, lam, rho, sigma, T, S0, r, v0, Pj):\n",
    "    if Pj == 1: #make an if statement for the different Pj and give the formulas\n",
    "        u  = 0.5\n",
    "        b = kappa + lam - rho*sigma\n",
    "    else:\n",
    "        u = -0.5\n",
    "        b = kappa + lam\n",
    "    # below is all the coding we need. Basically there is nothing more than\n",
    "    # trying to implement the formulas. I came against some problems so \n",
    "    # I had to split a bit the formulas to make them work. It looks like it is \n",
    "    # a bit sensitive with the parantheses or maybe I could not make it work in a big\n",
    "    # equation\n",
    "    dNoSquareRoot = (rho*sigma*1j*phi-b)**2-(sigma**2)*(2*u*1j*phi-phi**2)\n",
    "    d = np.sqrt(dNoSquareRoot)\n",
    "    g = (b-rho*sigma*1j*phi+d)/(b-rho*sigma*1j*phi-d)\n",
    "    D_PARTA = (b-rho*sigma*1j*phi+d)/(sigma**2)\n",
    "    D_PARTB = (1-np.exp(d*tau))/(1-g*np.exp(d*tau))\n",
    "    D = D_PARTA*D_PARTB\n",
    "    a = kappa*theta\n",
    "    x = np.log(S0)\n",
    "    C_PARTA = (r-q)*1j*phi*tau \n",
    "    C_PARTB = (a/sigma**2)*((b-rho*sigma*1j*phi+ d)*tau-2*np.log((1-g*np.exp(d*tau))/(1-g)))\n",
    "    C = C_PARTA + C_PARTB\n",
    "    cf = np.exp(C + D*v0 + 1j*phi*x)         \n",
    "    return cf                         "
   ]
  },
  {
   "cell_type": "code",
   "execution_count": 2,
   "id": "f5bd4b6d",
   "metadata": {},
   "outputs": [
    {
     "data": {
      "text/plain": [
       "(0.9999999999892609+4.632064148415667e-06j)"
      ]
     },
     "execution_count": 2,
     "metadata": {},
     "output_type": "execute_result"
    }
   ],
   "source": [
    "heston_CF(phi, kappa, theta, lam, rho, sigma, T, S0, r, v0, 1) # the correct output according to the\n",
    "# task 1 headline\n",
    "# (0.9999999999892609+4.632064148415667e-06j)"
   ]
  },
  {
   "cell_type": "markdown",
   "id": "fee9af00",
   "metadata": {},
   "source": [
    "## TASK 2 \n",
    "Write a function to give the integrand in Formula (18) (for computing  Pj s) in Heston (1993). Note that if  f  is a complex number in Python,  f.real  gives the real part of it. Check your fucnction using the above example, you should get as output  0.026893962444189606\n"
   ]
  },
  {
   "cell_type": "code",
   "execution_count": 3,
   "id": "3c625846",
   "metadata": {},
   "outputs": [],
   "source": [
    "def heston_Integrand(phi, kappa, theta, lam, rho, sigma, T, S0, K, r, v0, Pj): # define the function\n",
    "    fj = heston_CF(phi, kappa, theta, lam, rho, sigma, T, S0, r, v0, Pj) # we already have the f inside the\n",
    "    # formula\n",
    "    remaining_part = (np.exp(-1j*phi*np.log(K))*fj/(1j*phi)).real #define the remaining part of the formula\n",
    "    return remaining_part # return it"
   ]
  },
  {
   "cell_type": "code",
   "execution_count": 4,
   "id": "ada6b6ff",
   "metadata": {},
   "outputs": [
    {
     "data": {
      "text/plain": [
       "0.026893962444189606"
      ]
     },
     "execution_count": 4,
     "metadata": {},
     "output_type": "execute_result"
    }
   ],
   "source": [
    "heston_Integrand(phi, kappa, theta, lam, rho, sigma, T, S0, K, r, v0, 1) # call the function and we see\n",
    "# that we actually get the desired output\n",
    "# 0.026893962444189606"
   ]
  },
  {
   "cell_type": "markdown",
   "id": "d27bd7c0",
   "metadata": {},
   "source": [
    "## TASK 3 \n",
    "Write a function to compute  P1  and  P2  i.e. Equation (18) in Heston (1993).\n",
    "I1 = 0.40968542618813575 (The definte integral for P1)\n",
    "I2 = 0.22059617207452004 (The definte integral for P2)\n",
    "P1= 0.6304069213811032\n",
    "P2= 0.5702179424256204"
   ]
  },
  {
   "cell_type": "code",
   "execution_count": 5,
   "id": "ac905dde",
   "metadata": {},
   "outputs": [
    {
     "name": "stdout",
     "output_type": "stream",
     "text": [
      "(0.40968542618813575, 0.22059617207452004, 0.6304069213811032, 0.5702179424256204)\n"
     ]
    }
   ],
   "source": [
    "\n",
    "import scipy.integrate as sci # import the scipy.integrate\n",
    "def P_1_2(kappa, theta, lam, rho, sigma, T, S0, K, r, v0): \n",
    "    args1 = ( kappa, theta, lam, rho, sigma, T, S0, K, r, v0,1) #set the arguments for the sci.quad\n",
    "    args2 = ( kappa, theta, lam, rho, sigma, T, S0, K, r, v0,2) #set the arguments for the sci.quad\n",
    "    I1 = sci.quad(heston_Integrand,0.000001,50, args=args1)[0] #get the first element of the tuple\n",
    "    I2 = sci.quad(heston_Integrand,0.000001,50, args=args2)[0] #get the first element of the tuple\n",
    "    P1 = 1/2 + (1/math.pi)*I1 # calculate p1 and p2\n",
    "    P2 = 1/2 + (1/math.pi)*I2\n",
    "    return I1,I2,P1,P2\n",
    "print(P_1_2(kappa, theta, lam, rho, sigma, T, S0, K, r, v0)) # here\n",
    "# and we get the desired outputs\n",
    "# I1 = 0.40968542618813575 (The definte integral for P1)\n",
    "# I2 = 0.22059617207452004 (The definte integral for P2)\n",
    "# P1= 0.6304069213811032\n",
    "# P2= 0.5702179424256204"
   ]
  },
  {
   "cell_type": "markdown",
   "id": "69a0bef6",
   "metadata": {},
   "source": [
    "## TASK 4\n",
    "Finally write a function to compute the call price using Equation (10) in Heston (1993). You should get the call price approximately 6.8678."
   ]
  },
  {
   "cell_type": "code",
   "execution_count": 6,
   "id": "648b213b",
   "metadata": {},
   "outputs": [
    {
     "name": "stdout",
     "output_type": "stream",
     "text": [
      "6.867841812173282\n"
     ]
    }
   ],
   "source": [
    "def hestonPrice(phi, kappa, theta, lam, rho, sigma, tau, S0, K, r, v0):  #define here the function to calculate the price according to the heston\n",
    "    (P1,P2) = P_1_2(kappa, theta, lam, rho, sigma, T, S0, K, r, v0)[2:4]\n",
    "    c = S0*P1 - K*np.exp(-r*T)*P2\n",
    "    return c\n",
    "call = hestonPrice(phi, kappa, theta, lam, rho, sigma, tau, S0, K, r, v0)\n",
    "print(call) #correct pricing\n",
    "# approximately 6.8678"
   ]
  },
  {
   "cell_type": "markdown",
   "id": "1ccc0130",
   "metadata": {},
   "source": [
    "## TASK 5\n",
    "Now compute the Heston price for another numerical example. What price you get? Does this price make sense?\n",
    "\n",
    "# Example two\n",
    "S = 7; K = 10\n",
    "tau = 3/12        # Maturity\n",
    "r = 0.0;   # risk-free rate; Dividend yield\n",
    "# Heston parameters\n",
    "kappa = 5; sigma = 0.3;  rho   = -0.9;  theta = 0.07; v0 = 0.07; lam = 0;  T=tau"
   ]
  },
  {
   "cell_type": "code",
   "execution_count": 7,
   "id": "cc2df8ee",
   "metadata": {},
   "outputs": [
    {
     "name": "stdout",
     "output_type": "stream",
     "text": [
      "1e-06 5 0.07 0 -0.9 0.3 0.25 7 10 0.0 0.07\n",
      "0.0033476642172580173\n"
     ]
    }
   ],
   "source": [
    "# Example two\n",
    "S1= 7; K1 = 10\n",
    "tau1 = 3/12        # Maturity\n",
    "r1 = 0.0;   # risk-free rate; Dividend yield\n",
    "# Heston parameters\n",
    "kappa1 = 5; sigma1 = 0.3;  rho1   = -0.9;  theta1 = 0.07; v01 = 0.07; lam1 = 0; \n",
    "print(phi, kappa1, theta1, lam1, rho1, sigma1, tau1, S1, K1, r1, v01)\n",
    "c_Example2 = hestonPrice(phi, kappa1, theta1, lam1, rho1, sigma1, tau1, S1, K1, r1, v01)\n",
    "print(c_Example2)\n",
    "# Yes it should be making sense since the strike and spot price are so low. We should expect a really \n",
    "# low value. At least that's what I think. There is the possibility that my variables are a bit mixed up\n",
    "# I did a lot of tests and I had a quite problem with this task since I had to change my code a lot\n",
    "# to make a function that accepts arguments and it is dynamic. Task 4 works fine but here maybe \n",
    "# the function is getting confused with some older variable and the correct result could be different than\n",
    "# the one I get. I hope I make sense. I changed the variables' name by adding a \"1\"\n",
    "# because there were conflicts with the other variables of Task 4."
   ]
  },
  {
   "cell_type": "markdown",
   "id": "e6bf2d79",
   "metadata": {},
   "source": [
    "## TASK 6\n",
    "Read article The little Heston trap by Albrecher et al. (2007). Write a summary on the issues pointed out in this article. You don't need to understand the very technical part on complex integrals, just explain the best you can what is \"the little Heston Trap\", and what is solution to avoiding this trap."
   ]
  },
  {
   "cell_type": "markdown",
   "id": "32ad7379",
   "metadata": {},
   "source": [
    "#### Summary\n",
    "There are two different equations for the Heston characteristic function. These two equations are in fact equavelant as it is observed in the correspoding paper. However, the biggest issue is \"d\"'s sign where is flipped around in these two equations meaning that it can be either negative or positive. This occurs from the fact that \"d\" is a complex root that has two different values and the second value is given by substracting the first one. Additionally, the branch cut seems to be the main problem here. A branch cut is where the a function is discontinuous in the complex plane. As someone increases \"u\" in ϕ_1(u,t) the main value of the complex square root basically moves to the negative real axis. This causes a discontinuous function to appear which is the problem of the numerical calculations. Further, some of the mispricings that are caused by that discontinuous function are not always noticable. \n",
    "\n",
    "A solution to tackle these mispricings is to use the ϕ_2(u,t) along the main value of the square root. That way numerical calculations are more stable since the discontinuities do not appear. Another one, more recent, is to restrict certain parameters. "
   ]
  }
 ],
 "metadata": {
  "kernelspec": {
   "display_name": "Python 3 (ipykernel)",
   "language": "python",
   "name": "python3"
  },
  "language_info": {
   "codemirror_mode": {
    "name": "ipython",
    "version": 3
   },
   "file_extension": ".py",
   "mimetype": "text/x-python",
   "name": "python",
   "nbconvert_exporter": "python",
   "pygments_lexer": "ipython3",
   "version": "3.9.7"
  }
 },
 "nbformat": 4,
 "nbformat_minor": 5
}
